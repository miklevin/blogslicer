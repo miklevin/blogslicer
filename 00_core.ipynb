{
 "cells": [
  {
   "cell_type": "code",
   "execution_count": null,
   "id": "7cc3d280-9787-4d4e-88de-591a7aaa2777",
   "metadata": {},
   "outputs": [],
   "source": [
    "# default_exp core"
   ]
  },
  {
   "cell_type": "code",
   "execution_count": null,
   "id": "9614fa7b-91f8-46fb-ab1d-321da61d09cc",
   "metadata": {},
   "outputs": [],
   "source": [
    "%load_ext lab_black\n",
    "%reload_ext lab_black"
   ]
  },
  {
   "cell_type": "code",
   "execution_count": null,
   "id": "499493a1-d63e-4d9a-a751-8282563f4701",
   "metadata": {},
   "outputs": [],
   "source": [
    "# hide\n",
    "from nbdev.showdoc import *"
   ]
  },
  {
   "cell_type": "code",
   "execution_count": null,
   "id": "932c652c-0913-4e64-b8a9-7606c992b701",
   "metadata": {},
   "outputs": [
    {
     "ename": "NameError",
     "evalue": "name 'plug' is not defined",
     "output_type": "error",
     "traceback": [
      "\u001b[1;31m---------------------------------------------------------------------------\u001b[0m",
      "\u001b[1;31mNameError\u001b[0m                                 Traceback (most recent call last)",
      "Input \u001b[1;32mIn [5]\u001b[0m, in \u001b[0;36m<cell line: 23>\u001b[1;34m()\u001b[0m\n\u001b[0;32m     20\u001b[0m folder_name \u001b[38;5;241m=\u001b[39m \u001b[38;5;124m\"\u001b[39m\u001b[38;5;124m../pythonically\u001b[39m\u001b[38;5;124m\"\u001b[39m\n\u001b[0;32m     21\u001b[0m blog \u001b[38;5;241m=\u001b[39m \u001b[38;5;124m\"\u001b[39m\u001b[38;5;124mblog\u001b[39m\u001b[38;5;124m\"\u001b[39m\n\u001b[0;32m     23\u001b[0m blog_index_front_matter \u001b[38;5;241m=\u001b[39m \u001b[38;5;124mf\u001b[39m\u001b[38;5;124m\"\"\"\u001b[39m\u001b[38;5;124m---\u001b[39m\n\u001b[0;32m     24\u001b[0m \u001b[38;5;124mlayout: post\u001b[39m\n\u001b[0;32m     25\u001b[0m \u001b[38;5;124mtitle: \u001b[39m\u001b[38;5;124m\"\u001b[39m\u001b[38;5;124mPythonic Ally Blog Index\u001b[39m\u001b[38;5;124m\"\u001b[39m\n\u001b[1;32m---> 26\u001b[0m \u001b[38;5;124mslug: \u001b[39m\u001b[38;5;132;01m{\u001b[39;00mplug\u001b[38;5;132;01m}\u001b[39;00m\n\u001b[0;32m     27\u001b[0m \u001b[38;5;124m---\u001b[39m\u001b[38;5;124m\"\"\"\u001b[39m\n\u001b[0;32m     29\u001b[0m journal_path \u001b[38;5;241m=\u001b[39m \u001b[38;5;124mf\u001b[39m\u001b[38;5;124m\"\u001b[39m\u001b[38;5;132;01m{\u001b[39;00mfolder_name\u001b[38;5;132;01m}\u001b[39;00m\u001b[38;5;124m/journal.md\u001b[39m\u001b[38;5;124m\"\u001b[39m\n\u001b[0;32m     30\u001b[0m output_path \u001b[38;5;241m=\u001b[39m \u001b[38;5;124mf\u001b[39m\u001b[38;5;124m\"\u001b[39m\u001b[38;5;132;01m{\u001b[39;00mfolder_name\u001b[38;5;132;01m}\u001b[39;00m\u001b[38;5;124m/_posts/\u001b[39m\u001b[38;5;124m\"\u001b[39m\n",
      "\u001b[1;31mNameError\u001b[0m: name 'plug' is not defined"
     ]
    }
   ],
   "source": [
    "# export\n",
    "\n",
    "import dateutil\n",
    "from slugify import slugify\n",
    "\n",
    "\n",
    "try:\n",
    "    from IPython.display import display, Markdown\n",
    "\n",
    "    h1 = lambda text: display(Markdown(f\"# {text}\"))\n",
    "    h2 = lambda text: display(Markdown(f\"## {text}\"))\n",
    "    h3 = lambda text: display(Markdown(f\"### {text}\"))\n",
    "    jn = True\n",
    "except:\n",
    "    h1 = lambda text: print(f\"# {text}\")\n",
    "    h2 = lambda text: print(f\"## {text}\")\n",
    "    h3 = lambda text: print(f\"## {text}\")\n",
    "    jn = False\n",
    "\n",
    "folder_name = \"../pythonically\"\n",
    "blog = \"blog\"\n",
    "\n",
    "blog_index_front_matter = f\"\"\"---\n",
    "layout: post\n",
    "title: \"Pythonic Ally Blog Index\"\n",
    "slug: {blog}\n",
    "---\"\"\"\n",
    "\n",
    "journal_path = f\"{folder_name}/journal.md\"\n",
    "output_path = f\"{folder_name}/_posts/\"\n",
    "slicer = \"-\" * 80\n",
    "\n",
    "dates = []\n",
    "counter = -1\n",
    "date_next = False\n",
    "with open(journal_path, \"r\") as fh:\n",
    "    for line in fh:\n",
    "        line = line.rstrip()\n",
    "        if date_next:\n",
    "            adate = line[3:]\n",
    "            date_next = False\n",
    "            adatetime = dateutil.parser.parse(adate).date()\n",
    "            dates.append(adatetime)\n",
    "            date_next = False\n",
    "        if line == slicer:\n",
    "            date_next = True\n",
    "            counter = counter + 1\n",
    "dates.reverse()\n",
    "\n",
    "h1(f\"There Are {counter} Posts:\")\n",
    "\n",
    "table = []\n",
    "at_top = True\n",
    "index_file = []\n",
    "with open(journal_path, \"r\") as fh:\n",
    "    for i, line in enumerate(fh):\n",
    "        line = line.rstrip()\n",
    "        if line == slicer:\n",
    "            if at_top:\n",
    "                at_top = False\n",
    "                table = []\n",
    "                continue\n",
    "            adatetime = dates[counter - 1]\n",
    "            filename = f\"{output_path}{adatetime}-post-{counter}.md\"\n",
    "            h3(f\"FILE: {filename}\")\n",
    "            with open(filename, \"w\") as fw:\n",
    "                title = f\"Post {counter}\"\n",
    "                if table[0] == slicer:\n",
    "                    table = table[1:]\n",
    "                maybe = table[1]\n",
    "                has_title = False\n",
    "                if table and maybe and maybe[0] == \"#\":\n",
    "                    title = maybe[maybe.find(\" \") + 1 :]\n",
    "                    has_title = True\n",
    "                slug = slugify(title)\n",
    "                top = []\n",
    "                top.append(\"---\\n\")\n",
    "                top.append(\"layout: post\\n\")\n",
    "                top.append(f'title: \"{title}\"\\n')\n",
    "                top.append(f\"categories: {blog}\\n\")\n",
    "                slug = title.lower().replace(\" \", \"-\")\n",
    "                top.append(f\"slug: {slug}\\n\")\n",
    "                link = f\"({title})[/{blog}/{slug}/]\"\n",
    "                index_file.append(link)\n",
    "                top.append(\"---\\n\")\n",
    "                top.append(\"\\n\")\n",
    "                top_chop = 2\n",
    "                if has_title:\n",
    "                    top_chop = 3\n",
    "                table = [f\"{x}\\n\" for x in table[top_chop:]]\n",
    "                table = top + table\n",
    "                # display(Markdown(''.join(table)))\n",
    "                print(\"\".join(table))\n",
    "                fw.writelines(table)\n",
    "            counter = counter - 1\n",
    "            table = []\n",
    "        table.append(line)"
   ]
  },
  {
   "cell_type": "code",
   "execution_count": null,
   "id": "272a1a18-9501-4575-9877-a7f6fdaabca0",
   "metadata": {},
   "outputs": [],
   "source": [
    "index_file"
   ]
  },
  {
   "cell_type": "code",
   "execution_count": null,
   "id": "9c766522-52ec-4c7f-9a98-5ccf235b7da5",
   "metadata": {},
   "outputs": [],
   "source": []
  }
 ],
 "metadata": {
  "kernelspec": {
   "display_name": "Python 3 (ipykernel)",
   "language": "python",
   "name": "python3"
  }
 },
 "nbformat": 4,
 "nbformat_minor": 5
}
