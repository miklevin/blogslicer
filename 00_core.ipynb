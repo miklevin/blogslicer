{
 "cells": [
  {
   "cell_type": "code",
   "execution_count": null,
   "id": "7cc3d280-9787-4d4e-88de-591a7aaa2777",
   "metadata": {},
   "outputs": [],
   "source": [
    "# default_exp core"
   ]
  },
  {
   "cell_type": "code",
   "execution_count": null,
   "id": "9614fa7b-91f8-46fb-ab1d-321da61d09cc",
   "metadata": {},
   "outputs": [],
   "source": [
    "%load_ext lab_black\n",
    "%reload_ext lab_black"
   ]
  },
  {
   "cell_type": "code",
   "execution_count": null,
   "id": "499493a1-d63e-4d9a-a751-8282563f4701",
   "metadata": {},
   "outputs": [],
   "source": [
    "# hide\n",
    "from nbdev.showdoc import *"
   ]
  },
  {
   "cell_type": "code",
   "execution_count": null,
   "id": "932c652c-0913-4e64-b8a9-7606c992b701",
   "metadata": {},
   "outputs": [
    {
     "data": {
      "text/markdown": [
       "# There Are 7 Posts:"
      ],
      "text/plain": [
       "<IPython.core.display.Markdown object>"
      ]
     },
     "metadata": {},
     "output_type": "display_data"
    },
    {
     "data": {
      "text/markdown": [
       "### FILE: ../pythonically/_posts/2022-04-26-post-7.md"
      ],
      "text/plain": [
       "<IPython.core.display.Markdown object>"
      ]
     },
     "metadata": {},
     "output_type": "display_data"
    },
    {
     "name": "stdout",
     "output_type": "stream",
     "text": [
      "---\n",
      "layout: post\n",
      "title: \"Post 7\"\n",
      "categories: blog\n",
      "slug: post-7\n",
      "---\n",
      "\n",
      "Let's see how quickly you can get blogslicer in PyPi.org as an nbdev project.\n",
      "\n",
      "Okay, I just:\n",
      "\n",
      "- Created ~/github/blogslicer\n",
      "- Created github repo\n",
      "- Tied the 2 together and pushed\n",
      "- Did nbdev_new\n",
      "- Edited settings.ini\n",
      "- Moved and renamed the notebook into repo\n",
      "- Attempted nbdev_clean_nbs (didn't appear to work)\n",
      "- Added notebook to repo and pushed\n",
      "\n",
      "Okay, what next? Make the new one which is now named 00_core.py work on files\n",
      "that are not in its own directory.\n",
      "\n",
      "\n",
      "\n",
      "\n",
      "\n",
      "\n",
      "\n",
      "\n",
      "\n",
      "\n",
      "\n",
      "\n",
      "\n",
      "\n",
      "\n",
      "\n",
      "\n"
     ]
    },
    {
     "data": {
      "text/markdown": [
       "### FILE: ../pythonically/_posts/2022-04-26-post-6.md"
      ],
      "text/plain": [
       "<IPython.core.display.Markdown object>"
      ]
     },
     "metadata": {},
     "output_type": "display_data"
    },
    {
     "name": "stdout",
     "output_type": "stream",
     "text": [
      "---\n",
      "layout: post\n",
      "title: \"Post 6\"\n",
      "categories: blog\n",
      "slug: post-6\n",
      "---\n",
      "\n",
      "Made a lot of good progress yesterday on the blog slice & dice system. Just\n",
      "have to get that title stuff down. Okay, got it done. There are little\n",
      "concessions here and there because I'm keeping my blogging format mostly\n",
      "intact.\n",
      "\n",
      "```python\n",
      "import dateutil\n",
      "from slugify import slugify\n",
      "from IPython.display import display, Markdown\n",
      "\n",
      "\n",
      "h1 = lambda text: display(Markdown(f\"# {text}\"))\n",
      "h2 = lambda text: display(Markdown(f\"## {text}\"))\n",
      "h3 = lambda text: display(Markdown(f\"### {text}\"))\n",
      "\n",
      "site_base = \"https://pythonically.com\"\n",
      "slicer = \"-\" * 80\n",
      "\n",
      "dates = []\n",
      "counter = -1\n",
      "date_next = False\n",
      "with open(\"./index.md\", \"r\") as fh:\n",
      "    for line in fh:\n",
      "        line = line.rstrip()\n",
      "        if date_next:\n",
      "            adate = line[3:]\n",
      "            date_next = False\n",
      "            adatetime = dateutil.parser.parse(adate).date()\n",
      "            dates.append(adatetime)\n",
      "            date_next = False\n",
      "        if line == slicer:\n",
      "            date_next = True\n",
      "            counter = counter + 1\n",
      "dates.reverse()\n",
      "\n",
      "h1(f\"There Are {counter} Posts:\")\n",
      "\n",
      "table = []\n",
      "at_top = True\n",
      "with open(\"./index.md\", \"r\") as fh:\n",
      "    for i, line in enumerate(fh):\n",
      "        line = line.rstrip()\n",
      "        if line == slicer:\n",
      "            if at_top:\n",
      "                at_top = False\n",
      "                table = []\n",
      "                continue\n",
      "            adatetime = dates[counter - 1]\n",
      "            filename = f\"./_posts/{adatetime}-post-{counter}.md\"\n",
      "            h3(f\"FILE: {filename}\")\n",
      "            with open(filename, \"w\") as fw:\n",
      "                title = f\"Post {counter}\"\n",
      "                if table[0] == slicer:\n",
      "                    table = table[1:]\n",
      "                maybe = table[1]\n",
      "                has_title = False\n",
      "                if table and maybe and maybe[0] == \"#\":\n",
      "                    title = maybe[maybe.find(\" \") + 1 :]\n",
      "                    title = slugify(title)\n",
      "                    has_title = True\n",
      "                top = []\n",
      "                top.append(\"---\\n\")\n",
      "                top.append(\"layout: post\\n\")\n",
      "                top.append(f'title: \"{title}\"\\n')\n",
      "                top.append(\"categories: blog\\n\")\n",
      "                slug = title.lower().replace(\" \", \"-\")\n",
      "                top.append(f\"slug: {slug}\\n\")\n",
      "                top.append(\"---\\n\")\n",
      "                top.append(\"\\n\")\n",
      "                top_chop = 2\n",
      "                if has_title:\n",
      "                    top_chop = 3\n",
      "                table = [f\"{x}\\n\" for x in table[top_chop:]]\n",
      "                table = top + table\n",
      "                # display(Markdown(''.join(table)))\n",
      "                print(\"\".join(table))\n",
      "                fw.writelines(table)\n",
      "            counter = counter - 1\n",
      "            table = []\n",
      "        table.append(line)\n",
      "```\n",
      "\n",
      "\n",
      "\n"
     ]
    },
    {
     "data": {
      "text/markdown": [
       "### FILE: ../pythonically/_posts/2022-04-25-post-5.md"
      ],
      "text/plain": [
       "<IPython.core.display.Markdown object>"
      ]
     },
     "metadata": {},
     "output_type": "display_data"
    },
    {
     "name": "stdout",
     "output_type": "stream",
     "text": [
      "---\n",
      "layout: post\n",
      "title: \"slicing-dicing-single-file-to-jekyll-blog-posts\"\n",
      "categories: blog\n",
      "slug: slicing-dicing-single-file-to-jekyll-blog-posts\n",
      "---\n",
      "\n",
      "I pushed out a few livestreams yesterday slice and dicing these single long\n",
      "journal files into smaller separate files. I did it under the pressure of\n",
      "livestreaming and didn't quite bring it to completion. I need to do a wee bit\n",
      "more exercise in clear thinking. I did a pretty good job of a rough first pass,\n",
      "but that's how bugs get in. Rough first pass needs a sort of clarity\n",
      "superimposed on it afterwards. You can't ***always*** work like Roomba, just\n",
      "backing up, turning a little and retrying. Sometimes you need to look at the\n",
      "entire situation and make higher-order determinations.\n",
      "\n",
      "One of the ways to do this is to be very precise about the debugging messages\n",
      "that you output while the script runs. This output is side-effects of the\n",
      "script. The functional result of running the script is the same whether the\n",
      "print statement output is shown or not, so the print statement is purely for me\n",
      "during the running of the script. Make it work for me better.\n",
      "\n",
      "Get your in-Notebook headlines!\n",
      "\n",
      "Okay, headlines are in. Putting in headlines makes everything start to fall in\n",
      "place. The hierarchy implied by headlines, especially h1, h2 & h3 are highly\n",
      "clarifying.\n",
      "\n",
      "Pshwew! That took some wrangling. It turned out that there's some sort of\n",
      "nuances keeping the Title from working as URLs, or at least easily. I\n",
      "pre-process the titles into slugs and use the slugs in the frontmatter and\n",
      "\\_config.yml file.\n",
      "\n",
      "I'll have to maybe do another video or publish the code or something. Suffice\n",
      "to say I have the \"success assured\" moment now under my belt. I have just a bit\n",
      "more pushing to do to hit this project home.\n",
      "\n",
      "I need to have a more sensible default filename. Right now the URLs would\n",
      "change every time I sliced & diced the journal because the counter goes UP as\n",
      "it goes through the file, but the fine is in reverse chronological notation.\n",
      "\n",
      "What are my blogging conventions?\n",
      "\n",
      "The page slicer token is always 80 hyphens. That's such a clean \"cut\".\n",
      "\n",
      "There needs to be a slicer token at the bottom of the document indicating the\n",
      "\"last\" or perhaps the \"first\" post, depending on how you think about it.\n",
      "\n",
      "Okay, done. I had to start the counter from -1 to get it right. It counts-up\n",
      "and then counts-down. The URLs will never change so long as the headline never\n",
      "changes. But these things have no headlines. Fix that, but make them optional.\n",
      "You have a system now that creates a very nice default URL /blog/post-n/\n",
      "\n",
      "\n",
      "\n"
     ]
    },
    {
     "data": {
      "text/markdown": [
       "### FILE: ../pythonically/_posts/2022-04-24-post-4.md"
      ],
      "text/plain": [
       "<IPython.core.display.Markdown object>"
      ]
     },
     "metadata": {},
     "output_type": "display_data"
    },
    {
     "name": "stdout",
     "output_type": "stream",
     "text": [
      "---\n",
      "layout: post\n",
      "title: \"hello-world\"\n",
      "categories: blog\n",
      "slug: hello-world\n",
      "---\n",
      "\n",
      "Hello World! Practicing Jekyll blogging.\n",
      "\n",
      "\n",
      "\n"
     ]
    },
    {
     "data": {
      "text/markdown": [
       "### FILE: ../pythonically/_posts/2022-04-23-post-3.md"
      ],
      "text/plain": [
       "<IPython.core.display.Markdown object>"
      ]
     },
     "metadata": {},
     "output_type": "display_data"
    },
    {
     "name": "stdout",
     "output_type": "stream",
     "text": [
      "---\n",
      "layout: post\n",
      "title: \"Post 3\"\n",
      "categories: blog\n",
      "slug: post-3\n",
      "---\n",
      "\n",
      "We are blogging using just a plain old text-file which currently becomes one\n",
      "long file on pythonically.com. On my last video I got Jekyll's default blog\n",
      "post system working. Jekyll is a static site publishing system built into\n",
      "Github. The feature is called Github pages.\n",
      "\n",
      "We changed our theme of Github Pages (through Github.com / Settings / Pages)\n",
      "\n",
      "We did a git pull.\n",
      "\n",
      "That got us our \\_config.yml file.\n",
      "\n",
      "I'm following the instructions on this fine article:\n",
      "https://www.digitalocean.com/community/tutorials/how-to-control-urls-and-links-in-jekyll\n",
      "\n",
      "I'm waiting for the Jekyll changes to propegate.\n",
      "\n",
      "Success!\n",
      "\n",
      "\n",
      "\n"
     ]
    },
    {
     "data": {
      "text/markdown": [
       "### FILE: ../pythonically/_posts/2022-04-23-post-2.md"
      ],
      "text/plain": [
       "<IPython.core.display.Markdown object>"
      ]
     },
     "metadata": {},
     "output_type": "display_data"
    },
    {
     "name": "stdout",
     "output_type": "stream",
     "text": [
      "---\n",
      "layout: post\n",
      "title: \"Post 2\"\n",
      "categories: blog\n",
      "slug: post-2\n",
      "---\n",
      "\n",
      "Hello World! Each of these Github Pages sites starts out as a journal like\n",
      "this.\n",
      "\n",
      "### APIs in Math vs. APIs in Python\n",
      "\n",
      "I think out loud regarding why I'm not a \"math person\" even though by all\n",
      "rights I should be. I realize I'm hyper-literal in my internalization and\n",
      "application of \"da rulez\". High school algebra in particular limits my\n",
      "capability for the sort of abstract thought required for higher mathematics.\n",
      "\n",
      "{% include youtubePlayer.html id=\"TCNpKUj53fo\" %}\n",
      "\n",
      "I hit the point home with this video where I show a division operator in Python\n",
      "(/) being overwritten by pathlib and the default Python slice API being\n",
      "overwritten by Pandas.\n",
      "\n",
      "{% include youtubePlayer.html id=\"FDYRQbw6X4M\" %}\n",
      "\n",
      "If I'm going to do better practicing what I preach, I can't have these long\n",
      "journal pages as my main homepages of these various sites. So, I need to think\n",
      "about slice & dicing the sites... and releasing the potential of the tools I'm\n",
      "using, doing as little re-invention as possible UNLESS it's absolutely called\n",
      "for... in which case it wouldn't really be re-invention.\n",
      "\n",
      "I have done a WordPress to Jekyll import (MikeLev.in) and I can look at it as\n",
      "an example... but why? Go for the ideal if it exists. See how Jekyll WANTS you\n",
      "to blog. Lean into the strengths of the tool.\n",
      "\n",
      "- Keep your original data in whatever format works best for you.\n",
      "  - For me, that's one long journal-like text-file (for life)\n",
      "- Focus on the \"transforms\"\n",
      "  - You can always adjust your transforms\n",
      "  - You don't really even rely on Jekyll\n",
      "  - Keep yourself platform-independent\n",
      "- The platforms you're not independent of \"always\" include:\n",
      "  - Linux\n",
      "  - Python\n",
      "  - vim\n",
      "  - git\n",
      "\n",
      "We are NOT migrating a blog. We're starting from scratch, so this page:\n",
      "https://jekyllrb.com/docs/posts/\n",
      "\n",
      "I put a file in location to test the system.\n",
      "\n",
      "https://pythonically.com/2022/04/23/My-First-Jekyll-Blog-Post.html\n",
      "\n",
      "Great success.\n",
      "\n",
      "There's much still to learn, especially about controlling that URL (categories\n",
      "& tags)... but this is a \"success assured\" moment. All I need to do is add a\n",
      "slice & dice process to my master publishing script.\n",
      "\n",
      "Okay, wow, so I got the title logic in. Now slap some headlines on these blog\n",
      "posts. A few with, a few without.\n",
      "\n",
      "\n",
      "\n"
     ]
    },
    {
     "data": {
      "text/markdown": [
       "### FILE: ../pythonically/_posts/2022-02-02-post-1.md"
      ],
      "text/plain": [
       "<IPython.core.display.Markdown object>"
      ]
     },
     "metadata": {},
     "output_type": "display_data"
    },
    {
     "name": "stdout",
     "output_type": "stream",
     "text": [
      "---\n",
      "layout: post\n",
      "title: \"Post 1\"\n",
      "categories: blog\n",
      "slug: post-1\n",
      "---\n",
      "\n",
      "Hello World! Welcome to Pythonically.com. I am Mike Levin, your Pythonic Ally.\n",
      "\n",
      "{% include youtubePlayer.html id=\"rZLHRNPnfT8\" %}\n",
      "\n",
      "\n"
     ]
    }
   ],
   "source": [
    "# export\n",
    "\n",
    "import dateutil\n",
    "from slugify import slugify\n",
    "\n",
    "from IPython.display import display, Markdown\n",
    "\n",
    "\n",
    "h1 = lambda text: display(Markdown(f\"# {text}\"))\n",
    "h2 = lambda text: display(Markdown(f\"## {text}\"))\n",
    "h3 = lambda text: display(Markdown(f\"### {text}\"))\n",
    "\n",
    "journal_path = \"../pythonically/journal.md\"\n",
    "output_path = \"../pythonically/_posts/\"\n",
    "site_base = \"https://pythonically.com\"\n",
    "plug = \"blog\"\n",
    "slicer = \"-\" * 80\n",
    "\n",
    "dates = []\n",
    "counter = -1\n",
    "date_next = False\n",
    "with open(journal_path, \"r\") as fh:\n",
    "    for line in fh:\n",
    "        line = line.rstrip()\n",
    "        if date_next:\n",
    "            adate = line[3:]\n",
    "            date_next = False\n",
    "            adatetime = dateutil.parser.parse(adate).date()\n",
    "            dates.append(adatetime)\n",
    "            date_next = False\n",
    "        if line == slicer:\n",
    "            date_next = True\n",
    "            counter = counter + 1\n",
    "dates.reverse()\n",
    "\n",
    "h1(f\"There Are {counter} Posts:\")\n",
    "\n",
    "table = []\n",
    "at_top = True\n",
    "with open(journal_path, \"r\") as fh:\n",
    "    for i, line in enumerate(fh):\n",
    "        line = line.rstrip()\n",
    "        if line == slicer:\n",
    "            if at_top:\n",
    "                at_top = False\n",
    "                table = []\n",
    "                continue\n",
    "            adatetime = dates[counter - 1]\n",
    "            filename = f\"{output_path}{adatetime}-post-{counter}.md\"\n",
    "            h3(f\"FILE: {filename}\")\n",
    "            with open(filename, \"w\") as fw:\n",
    "                title = f\"Post {counter}\"\n",
    "                if table[0] == slicer:\n",
    "                    table = table[1:]\n",
    "                maybe = table[1]\n",
    "                has_title = False\n",
    "                if table and maybe and maybe[0] == \"#\":\n",
    "                    title = maybe[maybe.find(\" \") + 1 :]\n",
    "                    title = slugify(title)\n",
    "                    has_title = True\n",
    "                top = []\n",
    "                top.append(\"---\\n\")\n",
    "                top.append(\"layout: post\\n\")\n",
    "                top.append(f'title: \"{title}\"\\n')\n",
    "                top.append(f\"categories: {plug}\\n\")\n",
    "                slug = title.lower().replace(\" \", \"-\")\n",
    "                top.append(f\"slug: {slug}\\n\")\n",
    "                top.append(\"---\\n\")\n",
    "                top.append(\"\\n\")\n",
    "                top_chop = 2\n",
    "                if has_title:\n",
    "                    top_chop = 3\n",
    "                table = [f\"{x}\\n\" for x in table[top_chop:]]\n",
    "                table = top + table\n",
    "                # display(Markdown(''.join(table)))\n",
    "                print(\"\".join(table))\n",
    "                fw.writelines(table)\n",
    "            counter = counter - 1\n",
    "            table = []\n",
    "        table.append(line)"
   ]
  },
  {
   "cell_type": "code",
   "execution_count": null,
   "id": "272a1a18-9501-4575-9877-a7f6fdaabca0",
   "metadata": {},
   "outputs": [],
   "source": []
  }
 ],
 "metadata": {
  "kernelspec": {
   "display_name": "Python 3 (ipykernel)",
   "language": "python",
   "name": "python3"
  }
 },
 "nbformat": 4,
 "nbformat_minor": 5
}
